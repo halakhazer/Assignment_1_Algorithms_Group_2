{
  "nbformat": 4,
  "nbformat_minor": 0,
  "metadata": {
    "colab": {
      "provenance": []
    },
    "kernelspec": {
      "name": "python3",
      "display_name": "Python 3"
    },
    "language_info": {
      "name": "python"
    }
  },
  "cells": [
    {
      "cell_type": "code",
      "execution_count": 1,
      "metadata": {
        "colab": {
          "base_uri": "https://localhost:8080/"
        },
        "id": "BYMQ4iU6BIWK",
        "outputId": "995b1095-5cd3-465f-ff9d-81e051aca6e6"
      },
      "outputs": [
        {
          "output_type": "stream",
          "name": "stdout",
          "text": [
            "Unsorted Product IDs: [101, 305, 204, 559, 403, 330, 701, 105]\n",
            "Sorted Product IDs: [101, 105, 204, 305, 330, 403, 559, 701]\n"
          ]
        }
      ],
      "source": [
        "import random\n",
        "\n",
        "''' This method partitions the array into two parts by selecting a random pivot element\n",
        "    then placing the smaller elements to one array and the larger elements to the other\n",
        "\n",
        "    A is the array\n",
        "    p contains the lowest array index\n",
        "    r contains the highest array index​\n",
        "'''\n",
        "\n",
        "def randomized_partition(A, p, r):\n",
        "\n",
        "    pivot_index = random.randint(p, r) #Randomly select a pivot index within the range [p, r]\n",
        "    A[pivot_index], A[r] = A[r], A[pivot_index] #swap it with the last element\n",
        "\n",
        "    pivot = A[r] #make the pivot element the last element\n",
        "    i = p - 1 # index of the boundary of elements less than the pivot\n",
        "    for j in range(p, r): # Iterate over the array\n",
        "        if A[j] < pivot: # If the current element is less than the pivot\n",
        "            i += 1 # increment i\n",
        "            A[i], A[j] = A[j], A[i] # swap it with the element at index i\n",
        "    A[i+1], A[r] = A[r], A[i+1] # Place the pivot in its correct position, so elements left of the pivot are less, and right are greater\n",
        "    return i + 1 #return pivot index\n",
        "\n",
        "''' This method apply quicksort on the array by recursivly sorting the elements\n",
        "\n",
        "    A is the array\n",
        "    p contains the lowest array index\n",
        "    r contains the highest array index​\n",
        "'''\n",
        "def randomized_quicksort(A, p, r):\n",
        "    if p < r:\n",
        "        # Partition the array and get the pivot index\n",
        "        pivot_index = randomized_partition(A, p, r)\n",
        "\n",
        "        # Recursively sort elements before and after partition\n",
        "        randomized_quicksort(A, p, pivot_index-1)\n",
        "        randomized_quicksort(A, pivot_index+1, r)\n",
        "\n",
        "# array of Product IDs\n",
        "product_ids = [101, 305, 204, 559, 403, 330, 701, 105]\n",
        "\n",
        "print(\"Unsorted Product IDs:\", product_ids)\n",
        "\n",
        "randomized_quicksort(product_ids, 0, len(product_ids) - 1) #Randomized quicksort call\n",
        "\n",
        "print(\"Sorted Product IDs:\", product_ids)\n"
      ]
    }
  ]
}