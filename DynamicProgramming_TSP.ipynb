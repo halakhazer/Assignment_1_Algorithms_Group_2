{
  "nbformat": 4,
  "nbformat_minor": 0,
  "metadata": {
    "colab": {
      "provenance": []
    },
    "kernelspec": {
      "name": "python3",
      "display_name": "Python 3"
    },
    "language_info": {
      "name": "python"
    }
  },
  "cells": [
    {
      "cell_type": "code",
      "source": [
        "import sys  # Importing the sys module for system-specific parameters and functions\n",
        "# Number of cities or vertices in the Travelling Salesman Problem (TSP)\n",
        "n = 4\n",
        "# Distance matrix representing distances between pairs of cities\n",
        "distan = [\n",
        "    [0, 22, 26, 30],\n",
        "    [30, 0, 45, 35],\n",
        "    [25, 45, 0, 60],\n",
        "    [30, 35, 40, 0]]\n",
        "# Bitmask representing all cities visited in the TSP\n",
        "completed_visit = (1 << n) - 1\n",
        "\n",
        "# Dynamic programming table to store computed subproblem solutions\n",
        "DP = [[-1 for _ in range(n)] for _ in range(2 ** n)]\n",
        "\n",
        "# Recursive function to compute the minimum distance for TSP\n",
        "def TSP(mark, position):\n",
        "    # Base case: If all cities have been visited, return the distance back to the starting city\n",
        "    if mark == completed_visit:\n",
        "        return distan[position][0]\n",
        "    # If the solution for the current subproblem has already been computed, return it\n",
        "    if DP[mark][position] != -1:\n",
        "        return DP[mark][position]\n",
        "    # Initialize the minimum distance to a large value\n",
        "    answer = sys.maxsize\n",
        "\n",
        "    # Iterate over all cities to find the next unvisited city and calculate the minimum distance\n",
        "    for city in range(n):\n",
        "        # Check if the city has not been visited yet (bit not set in the mark bitmask)\n",
        "        if (mark & (1 << city)) == 0:\n",
        "            # Calculate the new distance to visit the city and recursively call TSP\n",
        "            new_answer = distan[position][city] + TSP(mark | (1 << city), city)\n",
        "            # Update the minimum distance\n",
        "            answer = min(answer, new_answer)\n",
        "\n",
        "    # Store the computed solution in the DP table and return it\n",
        "    DP[mark][position] = answer\n",
        "    return answer\n",
        "\n",
        "# Initialize all cells of the DP table to -1\n",
        "for i in range(1 << n):\n",
        "    for j in range(n):\n",
        "        DP[i][j] = -1\n",
        "\n",
        "# Print the minimum distance traveled obtained by calling the TSP function with an initial bitmask\n",
        "print(\"Minimum Distance Travelled ->\", TSP(1, 0))\n"
      ],
      "metadata": {
        "colab": {
          "base_uri": "https://localhost:8080/"
        },
        "id": "izlThtzSwmP-",
        "outputId": "8d04be26-8a5e-4e9f-c66a-962f4e0c5aaa"
      },
      "execution_count": null,
      "outputs": [
        {
          "output_type": "stream",
          "name": "stdout",
          "text": [
            "Minimum Distance Travelled -> 122\n"
          ]
        }
      ]
    }
  ]
}