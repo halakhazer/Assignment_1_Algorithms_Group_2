{
  "nbformat": 4,
  "nbformat_minor": 0,
  "metadata": {
    "colab": {
      "provenance": []
    },
    "kernelspec": {
      "name": "python3",
      "display_name": "Python 3"
    },
    "language_info": {
      "name": "python"
    }
  },
  "cells": [
    {
      "cell_type": "code",
      "execution_count": 6,
      "metadata": {
        "colab": {
          "base_uri": "https://localhost:8080/"
        },
        "id": "-PehX0GFJZU0",
        "outputId": "482037ef-9bf4-4687-ee36-a49d771f8d27"
      },
      "outputs": [
        {
          "output_type": "stream",
          "name": "stdout",
          "text": [
            "Students names: ['201800353_Hadil', '201906848_Hala', '202078688_Alice', '202110821_Roza', '202314920_Haya', '202456789_Bob']\n"
          ]
        }
      ],
      "source": [
        "def sort_names(names):\n",
        "    # Initialize an empty dictionary to store ID numbers as keys and corresponding student names as values\n",
        "    hash_table = {}\n",
        "\n",
        "    # Iterate over each name in the input list\n",
        "    for name in names:\n",
        "        # Split each name into ID number and student name using the underscore character as separator\n",
        "        id_number, student_name = name.split(\"_\", 1)\n",
        "\n",
        "        # If the ID number is not already present in the hash table, initialize an empty list for it\n",
        "        if id_number not in hash_table:\n",
        "            hash_table[id_number] = []\n",
        "\n",
        "        # Append the student name to the list associated with the ID number in the hash table\n",
        "        hash_table[id_number].append(student_name)\n",
        "\n",
        "    # Initialize an empty list to store the sorted names\n",
        "    sorted_names = []\n",
        "\n",
        "    # Iterate over the sorted ID numbers in the hash table\n",
        "    for id_number in sorted(hash_table.keys()):\n",
        "        # Sort the list of student names associated with the current ID number\n",
        "        sorted_student_names = sorted(hash_table[id_number])\n",
        "\n",
        "        # Iterate over each student name in the sorted list\n",
        "        for student_name in sorted_student_names:\n",
        "            # Append the ID number and student name combined with an underscore to the sorted names list\n",
        "            sorted_names.append(f\"{id_number}_{student_name}\")\n",
        "\n",
        "    # Return the list of sorted names\n",
        "    return sorted_names\n",
        "\n",
        "# Example usage\n",
        "names = [\"202314920_Haya\", \"201906848_Hala\", \"201800353_Hadil\",\n",
        "         \"202110821_Roza\", \"202078688_Alice\", \"202456789_Bob\"]\n",
        "sorted_names = sort_names(names)\n",
        "print(\"Students names:\", sorted_names)"
      ]
    }
  ]
}