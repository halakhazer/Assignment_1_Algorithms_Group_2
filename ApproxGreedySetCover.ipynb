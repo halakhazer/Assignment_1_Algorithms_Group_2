{
  "nbformat": 4,
  "nbformat_minor": 0,
  "metadata": {
    "colab": {
      "provenance": []
    },
    "kernelspec": {
      "name": "python3",
      "display_name": "Python 3"
    },
    "language_info": {
      "name": "python"
    }
  },
  "cells": [
    {
      "cell_type": "code",
      "execution_count": 3,
      "metadata": {
        "colab": {
          "base_uri": "https://localhost:8080/"
        },
        "id": "YidrarxhxNn0",
        "outputId": "a10c28d6-e9da-40be-d530-9268c2d058ee"
      },
      "outputs": [
        {
          "output_type": "stream",
          "name": "stdout",
          "text": [
            "Selected sets: [{1, 2, 3}, {4, 5}]\n"
          ]
        }
      ],
      "source": [
        "\"\"\"\n",
        "    Approx greedy algorithm to solve the Set Cover problem.\n",
        "\n",
        "    :param X: A set of all elements to be covered.\n",
        "    :param S: A list of sets, where each set is a subset of the X.\n",
        "    :return: A list of selected sets that form the set cover.\n",
        "\"\"\"\n",
        "def approx_greedy_set_cover(X, S):\n",
        "\n",
        "    U = X.copy() # Copy the X to keep track of uncovered elements\n",
        "\n",
        "    output = [] # List that holds the selected sets forming the cover\n",
        "\n",
        "    # Continue until all elements are covered\n",
        "    while U:\n",
        "        # Select the set covering the most uncovered elements\n",
        "        max_set = max(S, key=lambda s: len(s & U))\n",
        "\n",
        "        # Add the selected set to the cover\n",
        "        output.append(max_set)\n",
        "\n",
        "        # Remove the elements covered by the selected set\n",
        "        U -= max_set\n",
        "\n",
        "    return output\n",
        "\n",
        "# Example usage\n",
        "X = {1, 2, 3, 4, 5}\n",
        "S = [{1, 2, 3}, {2, 4}, {3, 4}, {4, 5}]\n",
        "\n",
        "cover = approx_greedy_set_cover(X, S)\n",
        "print(\"Selected sets:\", cover)"
      ]
    }
  ]
}