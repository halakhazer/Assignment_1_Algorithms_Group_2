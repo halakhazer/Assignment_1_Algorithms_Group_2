{
 "cells": [
  {
   "cell_type": "code",
   "execution_count": 5,
   "id": "c02a85a5-64f6-4206-aadf-e254c5713a54",
   "metadata": {},
   "outputs": [
    {
     "name": "stdout",
     "output_type": "stream",
     "text": [
      "Number of comparisons: 101\n",
      "Video Info: (101, 'Doghouse', 'Comedy|Horror', 354)\n"
     ]
    }
   ],
   "source": [
    "def ternary_search(arr, key):\n",
    "    left = 0\n",
    "    right = len(arr) - 1\n",
    "\n",
    "    while left <= right:\n",
    "        mid1 = left + (right - left) // 3\n",
    "        mid2 = right - (right - left) // 3\n",
    "\n",
    "        if arr[mid1][0] == key:\n",
    "            return mid1\n",
    "        elif arr[mid2][0] == key:\n",
    "            return mid2\n",
    "        elif key < arr[mid1][0]:\n",
    "            right = mid1 - 1\n",
    "        elif key > arr[mid2][0]:\n",
    "            left = mid2 + 1\n",
    "        else:\n",
    "            left = mid1 + 1\n",
    "            right = mid2 - 1\n",
    "\n",
    "    return -1\n",
    "\n",
    "def read_video_data(filename):\n",
    "    video_data = []\n",
    "    with open(filename, 'r') as file:\n",
    "        # Skip the header line\n",
    "        next(file)\n",
    "        for line in file:\n",
    "            if line.strip():  # Skip empty lines\n",
    "                video_info = line.strip().split(',')\n",
    "                video_data.append((int(video_info[0]), video_info[1], video_info[2], int(video_info[3])))\n",
    "    return video_data\n",
    "\n",
    "\n",
    "def search_video_by_number(filename, key):\n",
    "    video_data = read_video_data(filename)\n",
    "    index = ternary_search(video_data, key)\n",
    "    if index != -1:\n",
    "        return video_data[index], index + 1  # Add 1 because index is zero-based\n",
    "    else:\n",
    "        return \"Video not found\", -1\n",
    "\n",
    "filename = \"videos.txt\"\n",
    "key = 101  # Example key to search for\n",
    "\n",
    "video_info, comparisons = search_video_by_number(filename, key)\n",
    "print(\"Number of comparisons:\", comparisons)\n",
    "print(\"Video Info:\", video_info)"
   ]
  },
  {
   "cell_type": "code",
   "execution_count": null,
   "id": "55a75fd2-aaaf-465e-a3f4-fee7adf6bffc",
   "metadata": {},
   "outputs": [],
   "source": []
  }
 ],
 "metadata": {
  "kernelspec": {
   "display_name": "Python 3 (ipykernel)",
   "language": "python",
   "name": "python3"
  },
  "language_info": {
   "codemirror_mode": {
    "name": "ipython",
    "version": 3
   },
   "file_extension": ".py",
   "mimetype": "text/x-python",
   "name": "python",
   "nbconvert_exporter": "python",
   "pygments_lexer": "ipython3",
   "version": "3.9.7"
  }
 },
 "nbformat": 4,
 "nbformat_minor": 5
}
